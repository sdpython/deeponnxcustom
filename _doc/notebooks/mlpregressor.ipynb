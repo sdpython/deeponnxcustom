{
  "cells": [
    {
      "cell_type": "markdown",
      "id": "15794c25",
      "metadata": {},
      "source": [
        "# onnxruntime-training, scikit-learn\n",
        "\n",
        "Simple examples mixing packages."
      ]
    },
    {
      "cell_type": "code",
      "execution_count": 1,
      "id": "b1d6834c",
      "metadata": {},
      "outputs": [
        {
          "data": {
            "text/html": [
              "<div id=\"my_id_menu_nb\">run previous cell, wait for 2 seconds</div>\n",
              "<script>\n",
              "function repeat_indent_string(n){\n",
              "    var a = \"\" ;\n",
              "    for ( ; n > 0 ; --n)\n",
              "        a += \"    \";\n",
              "    return a;\n",
              "}\n",
              "// look up into all sections and builds an automated menu //\n",
              "var update_menu_string = function(begin, lfirst, llast, sformat, send, keep_item, begin_format, end_format) {\n",
              "    var anchors = document.getElementsByClassName(\"section\");\n",
              "    if (anchors.length == 0) {\n",
              "        anchors = document.getElementsByClassName(\"text_cell_render rendered_html\");\n",
              "    }\n",
              "    var i,t;\n",
              "    var text_menu = begin;\n",
              "    var text_memo = \"<pre>\\nlength:\" + anchors.length + \"\\n\";\n",
              "    var ind = \"\";\n",
              "    var memo_level = 1;\n",
              "    var href;\n",
              "    var tags = [];\n",
              "    var main_item = 0;\n",
              "    var format_open = 0;\n",
              "    for (i = 0; i <= llast; i++)\n",
              "        tags.push(\"h\" + i);\n",
              "\n",
              "    for (i = 0; i < anchors.length; i++) {\n",
              "        text_memo += \"**\" + anchors[i].id + \"--\\n\";\n",
              "\n",
              "        var child = null;\n",
              "        for(t = 0; t < tags.length; t++) {\n",
              "            var r = anchors[i].getElementsByTagName(tags[t]);\n",
              "            if (r.length > 0) {\n",
              "child = r[0];\n",
              "break;\n",
              "            }\n",
              "        }\n",
              "        if (child == null) {\n",
              "            text_memo += \"null\\n\";\n",
              "            continue;\n",
              "        }\n",
              "        if (anchors[i].hasAttribute(\"id\")) {\n",
              "            // when converted in RST\n",
              "            href = anchors[i].id;\n",
              "            text_memo += \"#1-\" + href;\n",
              "            // passer \u00e0 child suivant (le chercher)\n",
              "        }\n",
              "        else if (child.hasAttribute(\"id\")) {\n",
              "            // in a notebook\n",
              "            href = child.id;\n",
              "            text_memo += \"#2-\" + href;\n",
              "        }\n",
              "        else {\n",
              "            text_memo += \"#3-\" + \"*\" + \"\\n\";\n",
              "            continue;\n",
              "        }\n",
              "        var title = child.textContent;\n",
              "        var level = parseInt(child.tagName.substring(1,2));\n",
              "\n",
              "        text_memo += \"--\" + level + \"?\" + lfirst + \"--\" + title + \"\\n\";\n",
              "\n",
              "        if ((level < lfirst) || (level > llast)) {\n",
              "            continue ;\n",
              "        }\n",
              "        if (title.endsWith('\u00b6')) {\n",
              "            title = title.substring(0,title.length-1).replace(\"<\", \"&lt;\")\n",
              "         .replace(\">\", \"&gt;\").replace(\"&\", \"&amp;\");\n",
              "        }\n",
              "        if (title.length == 0) {\n",
              "            continue;\n",
              "        }\n",
              "\n",
              "        while (level < memo_level) {\n",
              "            text_menu += end_format + \"</ul>\\n\";\n",
              "            format_open -= 1;\n",
              "            memo_level -= 1;\n",
              "        }\n",
              "        if (level == lfirst) {\n",
              "            main_item += 1;\n",
              "        }\n",
              "        if (keep_item != -1 && main_item != keep_item + 1) {\n",
              "            // alert(main_item + \" - \" + level + \" - \" + keep_item);\n",
              "            continue;\n",
              "        }\n",
              "        while (level > memo_level) {\n",
              "            text_menu += \"<ul>\\n\";\n",
              "            memo_level += 1;\n",
              "        }\n",
              "        text_menu += repeat_indent_string(level-2);\n",
              "        text_menu += begin_format + sformat.replace(\"__HREF__\", href).replace(\"__TITLE__\", title);\n",
              "        format_open += 1;\n",
              "    }\n",
              "    while (1 < memo_level) {\n",
              "        text_menu += end_format + \"</ul>\\n\";\n",
              "        memo_level -= 1;\n",
              "        format_open -= 1;\n",
              "    }\n",
              "    text_menu += send;\n",
              "    //text_menu += \"\\n\" + text_memo;\n",
              "\n",
              "    while (format_open > 0) {\n",
              "        text_menu += end_format;\n",
              "        format_open -= 1;\n",
              "    }\n",
              "    return text_menu;\n",
              "};\n",
              "var update_menu = function() {\n",
              "    var sbegin = \"\";\n",
              "    var sformat = '<a href=\"#__HREF__\">__TITLE__</a>';\n",
              "    var send = \"\";\n",
              "    var begin_format = '<li>';\n",
              "    var end_format = '</li>';\n",
              "    var keep_item = -1;\n",
              "    var text_menu = update_menu_string(sbegin, 2, 4, sformat, send, keep_item,\n",
              "       begin_format, end_format);\n",
              "    var menu = document.getElementById(\"my_id_menu_nb\");\n",
              "    menu.innerHTML=text_menu;\n",
              "};\n",
              "window.setTimeout(update_menu,2000);\n",
              "            </script>"
            ],
            "text/plain": [
              "<IPython.core.display.HTML object>"
            ]
          },
          "execution_count": 2,
          "metadata": {},
          "output_type": "execute_result"
        }
      ],
      "source": [
        "from jyquickhelper import add_notebook_menu\n",
        "add_notebook_menu()"
      ]
    },
    {
      "cell_type": "code",
      "execution_count": 2,
      "id": "9c7d85a7",
      "metadata": {},
      "outputs": [],
      "source": [
        "%matplotlib inline"
      ]
    },
    {
      "cell_type": "code",
      "execution_count": 3,
      "id": "f3772d83",
      "metadata": {},
      "outputs": [],
      "source": [
        "%load_ext mlprodict"
      ]
    },
    {
      "cell_type": "markdown",
      "id": "19c76814",
      "metadata": {},
      "source": [
        "## Data and first model"
      ]
    },
    {
      "cell_type": "code",
      "execution_count": 4,
      "id": "c9059636",
      "metadata": {},
      "outputs": [],
      "source": [
        "from sklearn.datasets import load_diabetes\n",
        "from sklearn.model_selection import train_test_split\n",
        "\n",
        "data = load_diabetes()\n",
        "X, y = data.data, data.target\n",
        "y /= 100\n",
        "X_train, X_test, y_train, y_test = train_test_split(X, y)"
      ]
    },
    {
      "cell_type": "code",
      "execution_count": 5,
      "id": "4a6af2a3",
      "metadata": {},
      "outputs": [
        {
          "data": {
            "text/plain": [
              "MLPRegressor(hidden_layer_sizes=(20,), max_iter=2000)"
            ]
          },
          "execution_count": 6,
          "metadata": {},
          "output_type": "execute_result"
        }
      ],
      "source": [
        "from sklearn.neural_network import MLPRegressor\n",
        "\n",
        "nn = MLPRegressor(hidden_layer_sizes=(20,), max_iter=2000)\n",
        "nn.fit(X_train, y_train)"
      ]
    },
    {
      "cell_type": "code",
      "execution_count": 6,
      "id": "305af27c",
      "metadata": {},
      "outputs": [
        {
          "data": {
            "text/plain": [
              "0.4558040742590157"
            ]
          },
          "execution_count": 7,
          "metadata": {},
          "output_type": "execute_result"
        }
      ],
      "source": [
        "from sklearn.metrics import r2_score\n",
        "r2_score(y_test, nn.predict(X_test))"
      ]
    },
    {
      "cell_type": "markdown",
      "id": "9ad32de8",
      "metadata": {},
      "source": [
        "## Conversion to ONNX"
      ]
    },
    {
      "cell_type": "code",
      "execution_count": 7,
      "id": "375d3a0d",
      "metadata": {},
      "outputs": [
        {
          "data": {
            "text/html": [
              "<div id=\"M1ee2a526a9e24bf9990122644ae181d1-cont\"><div id=\"M1ee2a526a9e24bf9990122644ae181d1\" style=\"width:;height:;\"></div></div>\n",
              "<script>\n",
              "\n",
              "require(['http://www.xavierdupre.fr/js/vizjs/viz.js'], function() { var svgGraph = Viz(\"digraph{\\n  nodesep=0.05;\\n  ranksep=0.25;\\n  size=7;\\n  orientation=portrait;\\n\\n  X [shape=box color=red label=\\\"X\\nfloat((0, 10))\\\" fontsize=10];\\n\\n  variable [shape=box color=green label=\\\"variable\\nfloat((0, 1))\\\" fontsize=10];\\n\\n  coefficient [shape=box label=\\\"coefficient\\nfloat32((10, 20))\\n[[-7.22082239e-03 -1.41002774e-01  3.70050609e-01 ...\\\" fontsize=10];\\n  intercepts [shape=box label=\\\"intercepts\\nfloat32((1, 20))\\n[[-0.3821101   0.22142892  0.32703072  0.10701083 ...\\\" fontsize=10];\\n  coefficient1 [shape=box label=\\\"coefficient1\\nfloat32((20, 1))\\n[[-2.7589651e-04]\\n [ 5.8739793e-01]\\n [ 1.4791846e-...\\\" fontsize=10];\\n  intercepts1 [shape=box label=\\\"intercepts1\\nfloat32((1, 1))\\n[[-0.37491915]]\\\" fontsize=10];\\n  shape_tensor [shape=box label=\\\"shape_tensor\\nint64((2,))\\n[-1  1]\\\" fontsize=10];\\n\\n  cast_input [shape=box label=\\\"cast_input\\\" fontsize=10];\\n  Cast [shape=box style=\\\"filled,rounded\\\" color=orange label=\\\"Cast\\n(Cast)\\nto=1\\\" fontsize=10];\\n  X -> Cast;\\n  Cast -> cast_input;\\n\\n  mul_result [shape=box label=\\\"mul_result\\\" fontsize=10];\\n  MatMul [shape=box style=\\\"filled,rounded\\\" color=orange label=\\\"MatMul\\n(MatMul)\\\" fontsize=10];\\n  cast_input -> MatMul;\\n  coefficient -> MatMul;\\n  MatMul -> mul_result;\\n\\n  add_result [shape=box label=\\\"add_result\\\" fontsize=10];\\n  Add [shape=box style=\\\"filled,rounded\\\" color=orange label=\\\"Add\\n(Add)\\\" fontsize=10];\\n  mul_result -> Add;\\n  intercepts -> Add;\\n  Add -> add_result;\\n\\n  next_activations [shape=box label=\\\"next_activations\\\" fontsize=10];\\n  Relu [shape=box style=\\\"filled,rounded\\\" color=orange label=\\\"Relu\\n(Relu)\\\" fontsize=10];\\n  add_result -> Relu;\\n  Relu -> next_activations;\\n\\n  mul_result1 [shape=box label=\\\"mul_result1\\\" fontsize=10];\\n  MatMul1 [shape=box style=\\\"filled,rounded\\\" color=orange label=\\\"MatMul\\n(MatMul1)\\\" fontsize=10];\\n  next_activations -> MatMul1;\\n  coefficient1 -> MatMul1;\\n  MatMul1 -> mul_result1;\\n\\n  add_result1 [shape=box label=\\\"add_result1\\\" fontsize=10];\\n  Add1 [shape=box style=\\\"filled,rounded\\\" color=orange label=\\\"Add\\n(Add1)\\\" fontsize=10];\\n  mul_result1 -> Add1;\\n  intercepts1 -> Add1;\\n  Add1 -> add_result1;\\n\\n  Reshape [shape=box style=\\\"filled,rounded\\\" color=orange label=\\\"Reshape\\n(Reshape)\\\" fontsize=10];\\n  add_result1 -> Reshape;\\n  shape_tensor -> Reshape;\\n  Reshape -> variable;\\n}\");\n",
              "document.getElementById('M1ee2a526a9e24bf9990122644ae181d1').innerHTML = svgGraph; });\n",
              "\n",
              "</script>"
            ],
            "text/plain": [
              "<jyquickhelper.jspy.render_nb_js_dot.RenderJsDot at 0x274fae5bbb0>"
            ]
          },
          "execution_count": 8,
          "metadata": {},
          "output_type": "execute_result"
        }
      ],
      "source": [
        "import numpy\n",
        "from skl2onnx import to_onnx\n",
        "\n",
        "nn_onnx = to_onnx(nn, X_train[1:].astype(numpy.float32))\n",
        "\n",
        "%onnxview nn_onnx"
      ]
    },
    {
      "cell_type": "markdown",
      "id": "95dfff89",
      "metadata": {},
      "source": [
        "## Training with pytorch + ONNX"
      ]
    },
    {
      "cell_type": "code",
      "execution_count": 8,
      "id": "6f261cbf",
      "metadata": {},
      "outputs": [
        {
          "data": {
            "text/plain": [
              "['coefficient', 'intercepts', 'coefficient1', 'intercepts1']"
            ]
          },
          "execution_count": 9,
          "metadata": {},
          "output_type": "execute_result"
        }
      ],
      "source": [
        "from onnx.numpy_helper import to_array\n",
        "\n",
        "weights = [(init.name, to_array(init)) \n",
        "           for init in nn_onnx.graph.initializer\n",
        "           if 'shape' not in init.name]\n",
        "[w[0] for w in weights]"
      ]
    },
    {
      "cell_type": "code",
      "execution_count": 9,
      "id": "9d1e2863",
      "metadata": {},
      "outputs": [
        {
          "name": "stdout",
          "output_type": "stream",
          "text": [
            "List of weights to train must be sorted but is not in [('coefficient', array([[-7.22082239e-03, -1.41002774e-01,  3.70050609e-01,\n",
            "        -2.36980408e-01,  2.33176742e-02,  2.76906818e-01,\n",
            "         2.94260740e-01,  7.19446912e-02,  5.56545496e-01,\n",
            "         4.55525704e-03, -4.02932465e-02,  6.40429463e-03,\n",
            "         6.75864809e-04, -2.00717244e-02,  4.15303260e-02,\n",
            "         6.35441542e-02,  2.44001485e-02,  2.97394454e-01,\n",
            "         3.09448153e-01,  3.05187926e-02],\n",
            "       [-1.57331243e-07, -1.38778076e-01, -4.29801792e-01,\n",
            "         1.27669111e-01, -2.06306140e-04, -4.91674334e-01,\n",
            "        -8.67220163e-01, -3.21711488e-02, -2.74597764e-01,\n",
            "        -1.27672649e-03, -3.35495849e-03,  2.72700671e-08,\n",
            "         6.19695129e-10, -4.50221509e-01, -2.42778230e-02,\n",
            "         2.55909741e-01, -6.35555685e-01, -8.20961475e-01,\n",
            "        -2.18635842e-01, -9.93478205e-03],\n",
            "       [ 6.81988662e-03,  8.30241501e-01,  3.48257840e-01,\n",
            "        -4.19047087e-01,  1.91311949e-04,  6.27074182e-01,\n",
            "         1.87205777e-01,  1.45733714e-01,  9.13715363e-01,\n",
            "         7.44347290e-07,  4.40806523e-02, -3.05240192e-02,\n",
            "        -5.17636426e-02,  4.14238483e-01,  5.72045624e-01,\n",
            "        -5.04267216e-01,  6.14487529e-01,  1.09959388e+00,\n",
            "         7.95495093e-01, -4.99947295e-02],\n",
            "       [-2.63805129e-02,  1.97325811e-01,  3.95431310e-01,\n",
            "        -2.91679949e-01,  2.58178506e-02,  2.49879196e-01,\n",
            "         8.01614463e-01,  2.91533440e-01,  4.06071603e-01,\n",
            "        -1.74005486e-08,  1.68230370e-04,  6.51148148e-05,\n",
            "         8.63861338e-09,  2.92157710e-01,  6.83954537e-01,\n",
            "        -2.95233905e-01,  7.79304445e-01,  1.02596976e-01,\n",
            "         7.80688763e-01,  8.39679753e-14],\n",
            "       [-1.16240024e-03,  3.98039371e-01,  6.55669793e-02,\n",
            "         3.41169871e-02,  4.56268936e-02, -3.57653588e-01,\n",
            "         2.67391384e-01, -1.66365936e-01,  6.25435188e-02,\n",
            "        -3.31421732e-14, -2.62766434e-06,  3.49837765e-02,\n",
            "         2.80757975e-02, -1.69617906e-02, -1.66969091e-01,\n",
            "         2.96180904e-01,  2.20059872e-01, -2.16036260e-01,\n",
            "         3.09724480e-01,  8.33652564e-04],\n",
            "       [-8.90063401e-03, -2.16208562e-01, -6.38480902e-01,\n",
            "         2.09297314e-01,  2.51904083e-03, -7.75903603e-03,\n",
            "         2.19696701e-01, -4.10246432e-01,  3.50906938e-01,\n",
            "         1.27828447e-03,  1.74838283e-06, -4.68801416e-04,\n",
            "        -7.61411648e-05,  2.42996261e-01, -1.44453183e-01,\n",
            "        -4.32434261e-01, -2.12174520e-01, -4.65208977e-01,\n",
            "         2.76753873e-01,  1.06572031e-06],\n",
            "       [-2.31867607e-12, -1.23207279e-01, -4.34686579e-02,\n",
            "         3.58937085e-01,  7.85002570e-08, -6.92738414e-01,\n",
            "        -7.54220128e-01, -1.61068097e-01, -9.35530007e-01,\n",
            "        -2.13657003e-02,  1.11171994e-02, -4.59502053e-06,\n",
            "         1.12325749e-08, -2.73079962e-01, -6.73505127e-01,\n",
            "         2.23872811e-01, -5.71346402e-01, -7.03420401e-01,\n",
            "        -9.12809223e-02, -7.51216314e-04],\n",
            "       [-1.67966925e-03,  1.41701981e-01,  4.78390366e-01,\n",
            "        -7.38485828e-02, -2.57110354e-02,  2.86992099e-02,\n",
            "         7.70219982e-01,  4.21974212e-01,  8.39189827e-01,\n",
            "        -2.13586129e-02,  1.58343907e-03, -4.01221309e-03,\n",
            "        -2.07718406e-02, -1.08850673e-01,  3.40588629e-01,\n",
            "        -9.72703770e-02,  3.77691656e-01, -6.51000142e-02,\n",
            "         1.26728103e-01,  1.29316601e-13],\n",
            "       [-2.62899715e-02,  6.70230091e-01,  7.21546829e-01,\n",
            "        -7.54769087e-01,  2.08486188e-02,  4.48794931e-01,\n",
            "         9.02229726e-01,  9.11745876e-02,  8.46389532e-01,\n",
            "         6.84766565e-04,  5.36850654e-02,  4.03811131e-03,\n",
            "         3.25510353e-02,  6.54049456e-01,  1.78415298e-01,\n",
            "        -3.49734455e-01,  7.71380424e-01,  3.66563350e-01,\n",
            "         5.44254303e-01,  4.94015254e-02],\n",
            "       [-4.58832905e-02,  4.03989315e-01,  8.19314718e-02,\n",
            "        -3.58648449e-01,  8.97352584e-05,  2.81674773e-01,\n",
            "        -2.42504627e-02,  3.62397760e-01,  5.65549374e-01,\n",
            "        -1.14184093e-06, -6.52004019e-05, -1.90126710e-04,\n",
            "        -4.74934001e-04,  3.68949115e-01,  6.81864247e-02,\n",
            "         2.48068690e-01,  7.12164640e-01,  1.41561761e-01,\n",
            "         3.65456581e-01,  1.15080434e-03]], dtype=float32)), ('intercepts', array([[-0.3821101 ,  0.22142892,  0.32703072,  0.10701083, -0.3632931 ,\n",
            "         0.35531977,  0.5162831 ,  0.41194582,  0.22636618, -0.31710863,\n",
            "        -0.30857578, -0.29955772, -0.28718537,  0.6109102 ,  0.24084033,\n",
            "         0.05625793,  0.5893107 ,  0.22104454,  0.57015765, -0.19407907]],\n",
            "      dtype=float32)), ('coefficient1', array([[-2.7589651e-04],\n",
            "       [ 5.8739793e-01],\n",
            "       [ 1.4791846e-01],\n",
            "       [-2.5573775e-01],\n",
            "       [ 1.6393873e-03],\n",
            "       [ 8.5462123e-02],\n",
            "       [ 1.4820997e-01],\n",
            "       [ 5.5193681e-01],\n",
            "       [ 4.5419323e-01],\n",
            "       [-7.8046270e-02],\n",
            "       [ 4.1253725e-03],\n",
            "       [-6.4671410e-09],\n",
            "       [ 6.4051241e-02],\n",
            "       [ 6.3688183e-01],\n",
            "       [ 7.0593804e-01],\n",
            "       [-2.2515191e-01],\n",
            "       [ 4.4667330e-01],\n",
            "       [ 6.5372163e-01],\n",
            "       [ 6.1444402e-01],\n",
            "       [ 2.0583489e-03]], dtype=float32)), ('intercepts1', array([[-0.37491915]], dtype=float32))]. You shoud use function onnx_rename_weights to do that before calling this class.\n"
          ]
        }
      ],
      "source": [
        "from deeponnxcustom.onnxtorch import TorchOrtFactory\n",
        "\n",
        "try:\n",
        "    fact = TorchOrtFactory(nn_onnx, weights)\n",
        "except ValueError as e:\n",
        "    print(e)"
      ]
    },
    {
      "cell_type": "markdown",
      "id": "491b8432",
      "metadata": {},
      "source": [
        "We need to rename the weights in alphabetical order."
      ]
    },
    {
      "cell_type": "code",
      "execution_count": 10,
      "id": "cd11eba0",
      "metadata": {},
      "outputs": [
        {
          "data": {
            "text/plain": [
              "['I0_coefficient', 'I1_intercepts', 'I2_coefficient1', 'I3_intercepts1']"
            ]
          },
          "execution_count": 11,
          "metadata": {},
          "output_type": "execute_result"
        }
      ],
      "source": [
        "from deeponnxcustom.tools.onnx_helper import onnx_rename_weights\n",
        "\n",
        "onnx_rename_weights(nn_onnx)\n",
        "weights = [(init.name, to_array(init)) \n",
        "           for init in nn_onnx.graph.initializer\n",
        "           if 'shape' not in init.name]\n",
        "[w[0] for w in weights]"
      ]
    },
    {
      "cell_type": "code",
      "execution_count": 11,
      "id": "3801ace8",
      "metadata": {
        "scrolled": false
      },
      "outputs": [],
      "source": [
        "fact = TorchOrtFactory(nn_onnx, [w[0] for w in weights])"
      ]
    },
    {
      "cell_type": "code",
      "execution_count": 12,
      "id": "22ba8477",
      "metadata": {},
      "outputs": [],
      "source": [
        "cls = fact.create_class()"
      ]
    },
    {
      "cell_type": "code",
      "execution_count": 13,
      "id": "7dd0e117",
      "metadata": {},
      "outputs": [
        {
          "name": "stdout",
          "output_type": "stream",
          "text": [
            "device: cpu\n"
          ]
        }
      ],
      "source": [
        "from tqdm import tqdm\n",
        "import torch\n",
        "\n",
        "\n",
        "def from_numpy(v, device=None, requires_grad=False):\n",
        "    v = torch.from_numpy(v)\n",
        "    if device is not None:\n",
        "        v = v.to(device)\n",
        "    v.requires_grad_(requires_grad)\n",
        "    return v\n",
        "\n",
        "\n",
        "def train_cls(cls, device, X_train, y_train, weights, n_iter=20, learning_rate=1e-2):\n",
        "    x = from_numpy(X_train.astype(numpy.float32), \n",
        "                   requires_grad=True, device=device)\n",
        "    y = from_numpy(y_train.astype(numpy.float32),\n",
        "                   requires_grad=True, device=device)\n",
        "\n",
        "    weights_tch = [(w[0], from_numpy(w[1], requires_grad=True, device=device))\n",
        "                   for w in weights]\n",
        "    weights_values = [w[1] for w in weights_tch]\n",
        "\n",
        "    all_losses = []\n",
        "    for t in tqdm(range(n_iter)):\n",
        "        # forward - backward\n",
        "        y_pred = cls.apply(x, *weights_values)\n",
        "        loss = (y_pred - y).pow(2).sum()\n",
        "        loss.backward()\n",
        "\n",
        "        # update weights\n",
        "        with torch.no_grad():\n",
        "            for name, w in weights_tch:\n",
        "                w -= w.grad * learning_rate\n",
        "                w.grad.zero_()\n",
        "\n",
        "        all_losses.append((t, float(loss.detach().numpy())))\n",
        "    return all_losses, weights_tch\n",
        "\n",
        "\n",
        "device_name = \"cuda:0\" if torch.cuda.is_available() else \"cpu\"\n",
        "device = torch.device(device_name)\n",
        "print(\"device:\", device)\n",
        "\n",
        "# train_losses, final_weights = train_cls(cls, device, X_train, y_test, weights)"
      ]
    },
    {
      "cell_type": "code",
      "execution_count": 14,
      "id": "0e41f8ac",
      "metadata": {},
      "outputs": [],
      "source": [
        "from pandas import DataFrame\n",
        "\n",
        "# df = DataFrame(data=train_losses, columns=['iter', 'train_loss'])\n",
        "# df.plot(x=\"iter\", y=\"train_loss\", title=\"Training loss\")"
      ]
    },
    {
      "cell_type": "code",
      "execution_count": 15,
      "id": "05991fb7",
      "metadata": {},
      "outputs": [],
      "source": []
    }
  ],
  "metadata": {
    "kernelspec": {
      "display_name": "Python 3",
      "language": "python",
      "name": "python3"
    },
    "language_info": {
      "codemirror_mode": {
        "name": "ipython",
        "version": 3
      },
      "file_extension": ".py",
      "mimetype": "text/x-python",
      "name": "python",
      "nbconvert_exporter": "python",
      "pygments_lexer": "ipython3",
      "version": "3.9.5"
    }
  },
  "nbformat": 4,
  "nbformat_minor": 5
}