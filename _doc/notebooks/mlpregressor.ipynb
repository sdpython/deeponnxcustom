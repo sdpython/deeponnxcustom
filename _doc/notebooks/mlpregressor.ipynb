{
  "cells": [
    {
      "cell_type": "markdown",
      "id": "15794c25",
      "metadata": {},
      "source": [
        "# onnxruntime-training, scikit-learn\n",
        "\n",
        "Simple examples mixing packages. The notebook takes a neural network from [scikit-learn](https://scikit-learn.org/stable/modules/generated/sklearn.neural_network.MLPRegressor.html) (regression), converts it into [ONNX](https://onnx.ai/) and trains it with [onnxruntime-training](https://github.com/microsoft/onnxruntime-training-examples)."
      ]
    },
    {
      "cell_type": "code",
      "execution_count": 1,
      "id": "b1d6834c",
      "metadata": {},
      "outputs": [
        {
          "data": {
            "text/html": [
              "<div id=\"my_id_menu_nb\">run previous cell, wait for 2 seconds</div>\n",
              "<script>\n",
              "function repeat_indent_string(n){\n",
              "    var a = \"\" ;\n",
              "    for ( ; n > 0 ; --n)\n",
              "        a += \"    \";\n",
              "    return a;\n",
              "}\n",
              "// look up into all sections and builds an automated menu //\n",
              "var update_menu_string = function(begin, lfirst, llast, sformat, send, keep_item, begin_format, end_format) {\n",
              "    var anchors = document.getElementsByClassName(\"section\");\n",
              "    if (anchors.length == 0) {\n",
              "        anchors = document.getElementsByClassName(\"text_cell_render rendered_html\");\n",
              "    }\n",
              "    var i,t;\n",
              "    var text_menu = begin;\n",
              "    var text_memo = \"<pre>\\nlength:\" + anchors.length + \"\\n\";\n",
              "    var ind = \"\";\n",
              "    var memo_level = 1;\n",
              "    var href;\n",
              "    var tags = [];\n",
              "    var main_item = 0;\n",
              "    var format_open = 0;\n",
              "    for (i = 0; i <= llast; i++)\n",
              "        tags.push(\"h\" + i);\n",
              "\n",
              "    for (i = 0; i < anchors.length; i++) {\n",
              "        text_memo += \"**\" + anchors[i].id + \"--\\n\";\n",
              "\n",
              "        var child = null;\n",
              "        for(t = 0; t < tags.length; t++) {\n",
              "            var r = anchors[i].getElementsByTagName(tags[t]);\n",
              "            if (r.length > 0) {\n",
              "child = r[0];\n",
              "break;\n",
              "            }\n",
              "        }\n",
              "        if (child == null) {\n",
              "            text_memo += \"null\\n\";\n",
              "            continue;\n",
              "        }\n",
              "        if (anchors[i].hasAttribute(\"id\")) {\n",
              "            // when converted in RST\n",
              "            href = anchors[i].id;\n",
              "            text_memo += \"#1-\" + href;\n",
              "            // passer \u00e0 child suivant (le chercher)\n",
              "        }\n",
              "        else if (child.hasAttribute(\"id\")) {\n",
              "            // in a notebook\n",
              "            href = child.id;\n",
              "            text_memo += \"#2-\" + href;\n",
              "        }\n",
              "        else {\n",
              "            text_memo += \"#3-\" + \"*\" + \"\\n\";\n",
              "            continue;\n",
              "        }\n",
              "        var title = child.textContent;\n",
              "        var level = parseInt(child.tagName.substring(1,2));\n",
              "\n",
              "        text_memo += \"--\" + level + \"?\" + lfirst + \"--\" + title + \"\\n\";\n",
              "\n",
              "        if ((level < lfirst) || (level > llast)) {\n",
              "            continue ;\n",
              "        }\n",
              "        if (title.endsWith('\u00b6')) {\n",
              "            title = title.substring(0,title.length-1).replace(\"<\", \"&lt;\")\n",
              "         .replace(\">\", \"&gt;\").replace(\"&\", \"&amp;\");\n",
              "        }\n",
              "        if (title.length == 0) {\n",
              "            continue;\n",
              "        }\n",
              "\n",
              "        while (level < memo_level) {\n",
              "            text_menu += end_format + \"</ul>\\n\";\n",
              "            format_open -= 1;\n",
              "            memo_level -= 1;\n",
              "        }\n",
              "        if (level == lfirst) {\n",
              "            main_item += 1;\n",
              "        }\n",
              "        if (keep_item != -1 && main_item != keep_item + 1) {\n",
              "            // alert(main_item + \" - \" + level + \" - \" + keep_item);\n",
              "            continue;\n",
              "        }\n",
              "        while (level > memo_level) {\n",
              "            text_menu += \"<ul>\\n\";\n",
              "            memo_level += 1;\n",
              "        }\n",
              "        text_menu += repeat_indent_string(level-2);\n",
              "        text_menu += begin_format + sformat.replace(\"__HREF__\", href).replace(\"__TITLE__\", title);\n",
              "        format_open += 1;\n",
              "    }\n",
              "    while (1 < memo_level) {\n",
              "        text_menu += end_format + \"</ul>\\n\";\n",
              "        memo_level -= 1;\n",
              "        format_open -= 1;\n",
              "    }\n",
              "    text_menu += send;\n",
              "    //text_menu += \"\\n\" + text_memo;\n",
              "\n",
              "    while (format_open > 0) {\n",
              "        text_menu += end_format;\n",
              "        format_open -= 1;\n",
              "    }\n",
              "    return text_menu;\n",
              "};\n",
              "var update_menu = function() {\n",
              "    var sbegin = \"\";\n",
              "    var sformat = '<a href=\"#__HREF__\">__TITLE__</a>';\n",
              "    var send = \"\";\n",
              "    var begin_format = '<li>';\n",
              "    var end_format = '</li>';\n",
              "    var keep_item = -1;\n",
              "    var text_menu = update_menu_string(sbegin, 2, 4, sformat, send, keep_item,\n",
              "       begin_format, end_format);\n",
              "    var menu = document.getElementById(\"my_id_menu_nb\");\n",
              "    menu.innerHTML=text_menu;\n",
              "};\n",
              "window.setTimeout(update_menu,2000);\n",
              "            </script>"
            ],
            "text/plain": [
              "<IPython.core.display.HTML object>"
            ]
          },
          "execution_count": 2,
          "metadata": {},
          "output_type": "execute_result"
        }
      ],
      "source": [
        "from jyquickhelper import add_notebook_menu\n",
        "add_notebook_menu()"
      ]
    },
    {
      "cell_type": "code",
      "execution_count": 2,
      "id": "9c7d85a7",
      "metadata": {},
      "outputs": [],
      "source": [
        "%matplotlib inline"
      ]
    },
    {
      "cell_type": "code",
      "execution_count": 3,
      "id": "f3772d83",
      "metadata": {},
      "outputs": [],
      "source": [
        "%load_ext mlprodict"
      ]
    },
    {
      "cell_type": "code",
      "execution_count": 4,
      "id": "95b5be9a",
      "metadata": {},
      "outputs": [],
      "source": [
        "import warnings\n",
        "from time import perf_counter\n",
        "warnings.filterwarnings(\"ignore\")"
      ]
    },
    {
      "cell_type": "markdown",
      "id": "19c76814",
      "metadata": {},
      "source": [
        "## Data and first model"
      ]
    },
    {
      "cell_type": "code",
      "execution_count": 5,
      "id": "c9059636",
      "metadata": {},
      "outputs": [],
      "source": [
        "from sklearn.datasets import load_diabetes\n",
        "from sklearn.model_selection import train_test_split\n",
        "\n",
        "data = load_diabetes()\n",
        "X, y = data.data, data.target\n",
        "y /= 100\n",
        "X_train, X_test, y_train, y_test = train_test_split(X, y)"
      ]
    },
    {
      "cell_type": "code",
      "execution_count": 6,
      "id": "4a6af2a3",
      "metadata": {},
      "outputs": [
        {
          "name": "stdout",
          "output_type": "stream",
          "text": [
            "training time: 0.9272374000000028\n"
          ]
        }
      ],
      "source": [
        "from sklearn.neural_network import MLPRegressor\n",
        "\n",
        "nn = MLPRegressor(hidden_layer_sizes=(20,), max_iter=400)\n",
        "begin = perf_counter()\n",
        "nn.fit(X_train, y_train)\n",
        "print(\"training time: %r\" % (perf_counter() - begin))"
      ]
    },
    {
      "cell_type": "code",
      "execution_count": 7,
      "id": "305af27c",
      "metadata": {},
      "outputs": [
        {
          "data": {
            "text/plain": [
              "0.4844054606180469"
            ]
          },
          "execution_count": 8,
          "metadata": {},
          "output_type": "execute_result"
        }
      ],
      "source": [
        "from sklearn.metrics import r2_score\n",
        "r2_score(y_test, nn.predict(X_test))"
      ]
    },
    {
      "cell_type": "markdown",
      "id": "9ad32de8",
      "metadata": {},
      "source": [
        "## Conversion to ONNX\n",
        "\n",
        "With [skl2onnx](https://github.com/onnx/sklearn-onnx)."
      ]
    },
    {
      "cell_type": "code",
      "execution_count": 8,
      "id": "375d3a0d",
      "metadata": {},
      "outputs": [
        {
          "data": {
            "text/html": [
              "<div id=\"M4d64e039d61248b49ec9cea558868d66-cont\"><div id=\"M4d64e039d61248b49ec9cea558868d66\" style=\"width:;height:;\"></div></div>\n",
              "<script>\n",
              "\n",
              "require(['http://www.xavierdupre.fr/js/vizjs/viz.js'], function() { var svgGraph = Viz(\"digraph{\\n  orientation=portrait;\\n  size=7;\\n  ranksep=0.25;\\n  nodesep=0.05;\\n\\n  X [shape=box color=red label=\\\"X\\nfloat((0, 10))\\\" fontsize=10];\\n\\n  variable [shape=box color=green label=\\\"variable\\nfloat((0, 1))\\\" fontsize=10];\\n\\n  coefficient [shape=box label=\\\"coefficient\\nfloat32((10, 20))\\n[[ 0.31949887  0.01952744 -0.15635686 -0.00922715 ...\\\" fontsize=10];\\n  intercepts [shape=box label=\\\"intercepts\\nfloat32((1, 20))\\n[[-0.03423172  0.24488369  0.4133413  -0.11589152 ...\\\" fontsize=10];\\n  coefficient1 [shape=box label=\\\"coefficient1\\nfloat32((20, 1))\\n[[-0.29189983]\\n [ 0.20125271]\\n [-0.12225391]\\n [-0....\\\" fontsize=10];\\n  intercepts1 [shape=box label=\\\"intercepts1\\nfloat32((1, 1))\\n[[-0.03293148]]\\\" fontsize=10];\\n  shape_tensor [shape=box label=\\\"shape_tensor\\nint64((2,))\\n[-1  1]\\\" fontsize=10];\\n\\n  cast_input [shape=box label=\\\"cast_input\\\" fontsize=10];\\n  Cast [shape=box style=\\\"filled,rounded\\\" color=orange label=\\\"Cast\\n(Cast)\\nto=1\\\" fontsize=10];\\n  X -> Cast;\\n  Cast -> cast_input;\\n\\n  mul_result [shape=box label=\\\"mul_result\\\" fontsize=10];\\n  MatMul [shape=box style=\\\"filled,rounded\\\" color=orange label=\\\"MatMul\\n(MatMul)\\\" fontsize=10];\\n  cast_input -> MatMul;\\n  coefficient -> MatMul;\\n  MatMul -> mul_result;\\n\\n  add_result [shape=box label=\\\"add_result\\\" fontsize=10];\\n  Add [shape=box style=\\\"filled,rounded\\\" color=orange label=\\\"Add\\n(Add)\\\" fontsize=10];\\n  mul_result -> Add;\\n  intercepts -> Add;\\n  Add -> add_result;\\n\\n  next_activations [shape=box label=\\\"next_activations\\\" fontsize=10];\\n  Relu [shape=box style=\\\"filled,rounded\\\" color=orange label=\\\"Relu\\n(Relu)\\\" fontsize=10];\\n  add_result -> Relu;\\n  Relu -> next_activations;\\n\\n  mul_result1 [shape=box label=\\\"mul_result1\\\" fontsize=10];\\n  MatMul1 [shape=box style=\\\"filled,rounded\\\" color=orange label=\\\"MatMul\\n(MatMul1)\\\" fontsize=10];\\n  next_activations -> MatMul1;\\n  coefficient1 -> MatMul1;\\n  MatMul1 -> mul_result1;\\n\\n  add_result1 [shape=box label=\\\"add_result1\\\" fontsize=10];\\n  Add1 [shape=box style=\\\"filled,rounded\\\" color=orange label=\\\"Add\\n(Add1)\\\" fontsize=10];\\n  mul_result1 -> Add1;\\n  intercepts1 -> Add1;\\n  Add1 -> add_result1;\\n\\n  Reshape [shape=box style=\\\"filled,rounded\\\" color=orange label=\\\"Reshape\\n(Reshape)\\\" fontsize=10];\\n  add_result1 -> Reshape;\\n  shape_tensor -> Reshape;\\n  Reshape -> variable;\\n}\");\n",
              "document.getElementById('M4d64e039d61248b49ec9cea558868d66').innerHTML = svgGraph; });\n",
              "\n",
              "</script>"
            ],
            "text/plain": [
              "<jyquickhelper.jspy.render_nb_js_dot.RenderJsDot at 0x1f23d1c1fa0>"
            ]
          },
          "execution_count": 9,
          "metadata": {},
          "output_type": "execute_result"
        }
      ],
      "source": [
        "import numpy\n",
        "from skl2onnx import to_onnx\n",
        "\n",
        "nn = MLPRegressor(hidden_layer_sizes=(20,), max_iter=1).fit(X_train, y_train)\n",
        "nn_onnx = to_onnx(nn, X_train[1:].astype(numpy.float32))\n",
        "\n",
        "%onnxview nn_onnx"
      ]
    },
    {
      "cell_type": "markdown",
      "id": "95dfff89",
      "metadata": {},
      "source": [
        "## Training with pytorch + ONNX\n",
        "\n",
        "We could use onnxruntime-training only (see [Train a linear regression with onnxruntime-training](http://www.xavierdupre.fr/app/onnxcustom/helpsphinx/gyexamples/plot_orttraining_linear_regression.html) but instead we try to extend [pytorch](https://pytorch.org/) with a custom function defined with an ONNX graph, the one obtained by converting a neural network from scikit-learn into ONNX. First, let's get the list of parameters of the model."
      ]
    },
    {
      "cell_type": "code",
      "execution_count": 9,
      "id": "6f261cbf",
      "metadata": {},
      "outputs": [
        {
          "data": {
            "text/plain": [
              "['coefficient', 'intercepts', 'coefficient1', 'intercepts1']"
            ]
          },
          "execution_count": 10,
          "metadata": {},
          "output_type": "execute_result"
        }
      ],
      "source": [
        "from onnx.numpy_helper import to_array\n",
        "\n",
        "weights = [(init.name, to_array(init)) \n",
        "           for init in nn_onnx.graph.initializer\n",
        "           if 'shape' not in init.name]\n",
        "[w[0] for w in weights]"
      ]
    },
    {
      "cell_type": "markdown",
      "id": "43625d28",
      "metadata": {},
      "source": [
        "Class [TorchOrtFactory](http://www.xavierdupre.fr/app/deeponnxcustom/helpsphinx/deeponnxcustom/onnxtorch/torchort.html#deeponnxcustom.onnxtorch.torchort.TorchOrtFactory) creates a torch function by taking the ONNX graph and the weights to learn."
      ]
    },
    {
      "cell_type": "code",
      "execution_count": 10,
      "id": "9d1e2863",
      "metadata": {},
      "outputs": [
        {
          "name": "stdout",
          "output_type": "stream",
          "text": [
            "No CUDA runtime is found, using CUDA_HOME='C:\\Program Files\\NVIDIA GPU Computing Toolkit\\CUDA\\v11.4'\n",
            "List of weights to train must be sorted but is not in ['coefficient', 'intercepts', 'coefficient1', 'intercepts1']. You shoud use function onnx_rename_weights to do that before calling this class.\n"
          ]
        }
      ],
      "source": [
        "from deeponnxcustom.onnxtorch import TorchOrtFactory\n",
        "\n",
        "try:\n",
        "    fact = TorchOrtFactory(nn_onnx, [w[0] for w in weights])\n",
        "except ValueError as e:\n",
        "    print(e)"
      ]
    },
    {
      "cell_type": "markdown",
      "id": "491b8432",
      "metadata": {},
      "source": [
        "The function fails because the weights needs to be in alphabetical order. We use a function to rename them."
      ]
    },
    {
      "cell_type": "code",
      "execution_count": 11,
      "id": "cd11eba0",
      "metadata": {},
      "outputs": [
        {
          "data": {
            "text/plain": [
              "['I0_coefficient', 'I1_intercepts', 'I2_coefficient1', 'I3_intercepts1']"
            ]
          },
          "execution_count": 12,
          "metadata": {},
          "output_type": "execute_result"
        }
      ],
      "source": [
        "from deeponnxcustom.tools.onnx_helper import onnx_rename_weights\n",
        "\n",
        "onnx_rename_weights(nn_onnx)\n",
        "weights = [(init.name, to_array(init)) \n",
        "           for init in nn_onnx.graph.initializer\n",
        "           if 'shape' not in init.name]\n",
        "[w[0] for w in weights]"
      ]
    },
    {
      "cell_type": "markdown",
      "id": "ba778d93",
      "metadata": {},
      "source": [
        "We start again."
      ]
    },
    {
      "cell_type": "code",
      "execution_count": 12,
      "id": "3801ace8",
      "metadata": {
        "scrolled": false
      },
      "outputs": [],
      "source": [
        "fact = TorchOrtFactory(nn_onnx, [w[0] for w in weights])"
      ]
    },
    {
      "cell_type": "markdown",
      "id": "de16a998",
      "metadata": {},
      "source": [
        "Let's create the torch function."
      ]
    },
    {
      "cell_type": "code",
      "execution_count": 13,
      "id": "22ba8477",
      "metadata": {},
      "outputs": [
        {
          "data": {
            "text/plain": [
              "deeponnxcustom.onnxtorch.torchort.TorchOrtFunction_2140275442256"
            ]
          },
          "execution_count": 14,
          "metadata": {},
          "output_type": "execute_result"
        }
      ],
      "source": [
        "cls = fact.create_class()\n",
        "cls"
      ]
    },
    {
      "cell_type": "code",
      "execution_count": 14,
      "id": "427f65f6",
      "metadata": {},
      "outputs": [
        {
          "data": {
            "text/plain": [
              "(deeponnxcustom.onnxtorch.torchort.TorchOrtFunction,)"
            ]
          },
          "execution_count": 15,
          "metadata": {},
          "output_type": "execute_result"
        }
      ],
      "source": [
        "cls.__bases__"
      ]
    },
    {
      "cell_type": "code",
      "execution_count": 15,
      "id": "70574953",
      "metadata": {},
      "outputs": [
        {
          "data": {
            "text/plain": [
              "(torch.autograd.function.Function,)"
            ]
          },
          "execution_count": 16,
          "metadata": {},
          "output_type": "execute_result"
        }
      ],
      "source": [
        "cls.__bases__[0].__bases__"
      ]
    },
    {
      "cell_type": "markdown",
      "id": "3b473d24",
      "metadata": {},
      "source": [
        "Let's train it."
      ]
    },
    {
      "cell_type": "code",
      "execution_count": 16,
      "id": "7dd0e117",
      "metadata": {
        "scrolled": false
      },
      "outputs": [
        {
          "name": "stdout",
          "output_type": "stream",
          "text": [
            "device: cpu\n"
          ]
        },
        {
          "name": "stderr",
          "output_type": "stream",
          "text": [
            "100%|\u2588\u2588\u2588\u2588\u2588\u2588\u2588\u2588\u2588\u2588| 400/400 [00:00<00:00, 428.75it/s]\n"
          ]
        },
        {
          "name": "stdout",
          "output_type": "stream",
          "text": [
            "training time: 0.9546589000000054\n"
          ]
        }
      ],
      "source": [
        "from tqdm import tqdm\n",
        "import torch\n",
        "\n",
        "\n",
        "def from_numpy(v, device=None, requires_grad=False):\n",
        "    v = torch.from_numpy(v)\n",
        "    if device is not None:\n",
        "        v = v.to(device)\n",
        "    v.requires_grad_(requires_grad)\n",
        "    return v\n",
        "\n",
        "\n",
        "def train_cls(cls, device, X_train, y_train, weights, n_iter=20, learning_rate=1e-3):\n",
        "    x = from_numpy(X_train.astype(numpy.float32), \n",
        "                   requires_grad=True, device=device)\n",
        "    y = from_numpy(y_train.astype(numpy.float32),\n",
        "                   requires_grad=True, device=device)\n",
        "    fact = torch.tensor([x.shape[0]], dtype=torch.float32).to(device)\n",
        "    fact.requires_grad_(True)\n",
        "\n",
        "    weights_tch = [(w[0], from_numpy(w[1], requires_grad=True, device=device))\n",
        "                   for w in weights]\n",
        "    weights_values = [w[1] for w in weights_tch]\n",
        "\n",
        "    all_losses = []\n",
        "    for t in tqdm(range(n_iter)):\n",
        "        # forward - backward\n",
        "        y_pred = cls.apply(x, *weights_values)\n",
        "        loss = (y_pred - y).pow(2).sum() / fact\n",
        "        loss.backward()\n",
        "\n",
        "        # update weights\n",
        "        with torch.no_grad():\n",
        "            for w in weights_values:\n",
        "                w -= w.grad * learning_rate\n",
        "                w.grad.zero_()\n",
        "\n",
        "        all_losses.append((t, float(loss.detach().numpy())))\n",
        "    return all_losses, weights_tch\n",
        "\n",
        "\n",
        "device_name = \"cuda:0\" if torch.cuda.is_available() else \"cpu\"\n",
        "device = torch.device(device_name)\n",
        "print(\"device:\", device)\n",
        "\n",
        "begin = perf_counter()\n",
        "train_losses, final_weights = train_cls(cls, device, X_train, y_test, weights, n_iter=400)\n",
        "print(\"training time: %r\" % (perf_counter() - begin))"
      ]
    },
    {
      "cell_type": "code",
      "execution_count": 17,
      "id": "0e41f8ac",
      "metadata": {},
      "outputs": [
        {
          "data": {
            "image/png": "[encoded data removed]",
            "text/plain": [
              "<Figure size 432x288 with 1 Axes>"
            ]
          },
          "metadata": {
            "needs_background": "light"
          },
          "output_type": "display_data"
        }
      ],
      "source": [
        "from pandas import DataFrame\n",
        "\n",
        "df = DataFrame(data=train_losses, columns=['iter', 'train_loss'])\n",
        "df[6:].plot(x=\"iter\", y=\"train_loss\", title=\"Training loss\");"
      ]
    },
    {
      "cell_type": "code",
      "execution_count": 18,
      "id": "dfe34617",
      "metadata": {},
      "outputs": [],
      "source": []
    }
  ],
  "metadata": {
    "kernelspec": {
      "display_name": "Python 3",
      "language": "python",
      "name": "python3"
    },
    "language_info": {
      "codemirror_mode": {
        "name": "ipython",
        "version": 3
      },
      "file_extension": ".py",
      "mimetype": "text/x-python",
      "name": "python",
      "nbconvert_exporter": "python",
      "pygments_lexer": "ipython3",
      "version": "3.9.5"
    }
  },
  "nbformat": 4,
  "nbformat_minor": 5
}